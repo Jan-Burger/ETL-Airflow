{
 "cells": [
  {
   "cell_type": "code",
   "execution_count": 11,
   "metadata": {
    "collapsed": true
   },
   "outputs": [
    {
     "data": {
      "text/plain": "      rank ticker                        name  mentions  upvotes rank_24h_ago   \n0        1   TSLA                       Tesla       967    32392            5  \\\n1        2    SPY  SPDR S&amp;P 500 ETF Trust       312      987            3   \n2        3     AI                       C3 AI       278     1986            2   \n3        4   NVDA                      NVIDIA       245      756            4   \n4        5    FRC         First Republic Bank       154     1083            7   \n...    ...    ...                         ...       ...      ...          ...   \n1104  1105    TTM                 Tata Motors         1        3          194   \n1105  1106     CE                    Celanese         1        0         1055   \n1106  1107   CTRA              Coterra Energy         1        0         None   \n1107  1108    OPK                 OPKO Health         1        2         1057   \n1108  1109   PLUG                  Plug Power         1        4         1060   \n\n      mentions_24h_ago  \n0                  181  \n1                  344  \n2                  371  \n3                  216  \n4                  106  \n...                ...  \n1104                 4  \n1105                 0  \n1106                 0  \n1107                 1  \n1108                 1  \n\n[1109 rows x 7 columns]",
      "text/html": "<div>\n<style scoped>\n    .dataframe tbody tr th:only-of-type {\n        vertical-align: middle;\n    }\n\n    .dataframe tbody tr th {\n        vertical-align: top;\n    }\n\n    .dataframe thead th {\n        text-align: right;\n    }\n</style>\n<table border=\"1\" class=\"dataframe\">\n  <thead>\n    <tr style=\"text-align: right;\">\n      <th></th>\n      <th>rank</th>\n      <th>ticker</th>\n      <th>name</th>\n      <th>mentions</th>\n      <th>upvotes</th>\n      <th>rank_24h_ago</th>\n      <th>mentions_24h_ago</th>\n    </tr>\n  </thead>\n  <tbody>\n    <tr>\n      <th>0</th>\n      <td>1</td>\n      <td>TSLA</td>\n      <td>Tesla</td>\n      <td>967</td>\n      <td>32392</td>\n      <td>5</td>\n      <td>181</td>\n    </tr>\n    <tr>\n      <th>1</th>\n      <td>2</td>\n      <td>SPY</td>\n      <td>SPDR S&amp;amp;P 500 ETF Trust</td>\n      <td>312</td>\n      <td>987</td>\n      <td>3</td>\n      <td>344</td>\n    </tr>\n    <tr>\n      <th>2</th>\n      <td>3</td>\n      <td>AI</td>\n      <td>C3 AI</td>\n      <td>278</td>\n      <td>1986</td>\n      <td>2</td>\n      <td>371</td>\n    </tr>\n    <tr>\n      <th>3</th>\n      <td>4</td>\n      <td>NVDA</td>\n      <td>NVIDIA</td>\n      <td>245</td>\n      <td>756</td>\n      <td>4</td>\n      <td>216</td>\n    </tr>\n    <tr>\n      <th>4</th>\n      <td>5</td>\n      <td>FRC</td>\n      <td>First Republic Bank</td>\n      <td>154</td>\n      <td>1083</td>\n      <td>7</td>\n      <td>106</td>\n    </tr>\n    <tr>\n      <th>...</th>\n      <td>...</td>\n      <td>...</td>\n      <td>...</td>\n      <td>...</td>\n      <td>...</td>\n      <td>...</td>\n      <td>...</td>\n    </tr>\n    <tr>\n      <th>1104</th>\n      <td>1105</td>\n      <td>TTM</td>\n      <td>Tata Motors</td>\n      <td>1</td>\n      <td>3</td>\n      <td>194</td>\n      <td>4</td>\n    </tr>\n    <tr>\n      <th>1105</th>\n      <td>1106</td>\n      <td>CE</td>\n      <td>Celanese</td>\n      <td>1</td>\n      <td>0</td>\n      <td>1055</td>\n      <td>0</td>\n    </tr>\n    <tr>\n      <th>1106</th>\n      <td>1107</td>\n      <td>CTRA</td>\n      <td>Coterra Energy</td>\n      <td>1</td>\n      <td>0</td>\n      <td>None</td>\n      <td>0</td>\n    </tr>\n    <tr>\n      <th>1107</th>\n      <td>1108</td>\n      <td>OPK</td>\n      <td>OPKO Health</td>\n      <td>1</td>\n      <td>2</td>\n      <td>1057</td>\n      <td>1</td>\n    </tr>\n    <tr>\n      <th>1108</th>\n      <td>1109</td>\n      <td>PLUG</td>\n      <td>Plug Power</td>\n      <td>1</td>\n      <td>4</td>\n      <td>1060</td>\n      <td>1</td>\n    </tr>\n  </tbody>\n</table>\n<p>1109 rows × 7 columns</p>\n</div>"
     },
     "execution_count": 11,
     "metadata": {},
     "output_type": "execute_result"
    }
   ],
   "source": [
    "import pandas as pd\n",
    "import numpy as np\n",
    "import requests\n",
    "import datetime as dt\n",
    "\n",
    "\n",
    "page = 1\n",
    "\n",
    "result_list = list()\n",
    "\n",
    "while True:\n",
    "\n",
    "    url = f\"https://apewisdom.io/api/v1.0/filter/all-stocks/page/{page}\"\n",
    "\n",
    "    response = requests.get(url)\n",
    "\n",
    "    for result in response.json()[\"results\"]:\n",
    "        result_list.append(result)\n",
    "\n",
    "    page += 1\n",
    "\n",
    "    if not response.json()[\"results\"]:\n",
    "        break\n",
    "\n",
    "df = pd.DataFrame(result_list)\n",
    "\n",
    "# Transformations\n",
    "df.loc[df[\"rank_24h_ago\"] == \"0\", \"rank_24h_ago\"] = None\n",
    "df.loc[df[\"mentions_24h_ago\"].isnull(), \"mentions_24h_ago\"] = \"0\"\n",
    "df.loc[df[\"mentions\"].isnull(), \"mentions\"] = \"0\"\n",
    "df.loc[df[\"upvotes\"].isnull(), \"upvotes\"] = \"0\"\n",
    "\n",
    "\n",
    "df = df.astype({\"rank\": \"int32\",\n",
    "        \"ticker\": \"object\",\n",
    "        \"name\": \"object\",\n",
    "        \"mentions\": \"int32\",\n",
    "        \"upvotes\": \"int32\",\n",
    "        \"rank_24h_ago\": \"object\",\n",
    "        \"mentions_24h_ago\": \"int32\"})\n",
    "\n",
    "df\n"
   ]
  },
  {
   "cell_type": "code",
   "execution_count": 10,
   "outputs": [
    {
     "name": "stdout",
     "output_type": "stream",
     "text": [
      "<class 'pandas.core.frame.DataFrame'>\n",
      "RangeIndex: 1108 entries, 0 to 1107\n",
      "Data columns (total 7 columns):\n",
      " #   Column            Non-Null Count  Dtype \n",
      "---  ------            --------------  ----- \n",
      " 0   rank              1108 non-null   int32 \n",
      " 1   ticker            1108 non-null   object\n",
      " 2   name              1108 non-null   object\n",
      " 3   mentions          1108 non-null   int32 \n",
      " 4   upvotes           1108 non-null   int32 \n",
      " 5   rank_24h_ago      956 non-null    object\n",
      " 6   mentions_24h_ago  1108 non-null   int32 \n",
      "dtypes: int32(4), object(3)\n",
      "memory usage: 43.4+ KB\n"
     ]
    }
   ],
   "source": [
    "df.info()"
   ],
   "metadata": {
    "collapsed": false
   }
  },
  {
   "cell_type": "code",
   "execution_count": 12,
   "outputs": [
    {
     "data": {
      "text/plain": "967"
     },
     "execution_count": 12,
     "metadata": {},
     "output_type": "execute_result"
    }
   ],
   "source": [
    "sum([3,3,4,4,7,5,1,9,6,8,12,29,71,58,36,29,22,19,21,14,9,7,8,6,8,7,3,17,13,22,16,11,10,9,11,9,6,7,1,1,2,8,4,2,2,4,3,2,2,6,4,2,2,1,3,2,3,3,1,1,2,2,0,1,4,0,0,0,0,2,0,1,0,2,3,0,0,2,0,1,2,1,4,1,0,1,6,1,2,1,3,2,2,0,1,1,5,2,3,2,2,3,3,5,8,5,6,4,5,3,7,6,12,9,14,7,14,12,8,6,6,4,2,5,3,8,7,6,5,4,13,5,12,19,22,7,6,5,9,5,9,4,1,2])"
   ],
   "metadata": {
    "collapsed": false
   }
  },
  {
   "cell_type": "code",
   "execution_count": null,
   "outputs": [],
   "source": [],
   "metadata": {
    "collapsed": false
   }
  }
 ],
 "metadata": {
  "kernelspec": {
   "display_name": "Python 3",
   "language": "python",
   "name": "python3"
  },
  "language_info": {
   "codemirror_mode": {
    "name": "ipython",
    "version": 2
   },
   "file_extension": ".py",
   "mimetype": "text/x-python",
   "name": "python",
   "nbconvert_exporter": "python",
   "pygments_lexer": "ipython2",
   "version": "2.7.6"
  }
 },
 "nbformat": 4,
 "nbformat_minor": 0
}
